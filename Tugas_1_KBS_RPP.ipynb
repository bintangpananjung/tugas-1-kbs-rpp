{
  "cells": [
    {
      "cell_type": "markdown",
      "metadata": {
        "id": "c1ChHSV-r72P"
      },
      "source": [
        "# KBS untuk pengkategorisasi indeks pencemaran udara"
      ]
    },
    {
      "cell_type": "code",
      "execution_count": 20,
      "metadata": {
        "id": "iE_8jjCHrTyv"
      },
      "outputs": [],
      "source": [
        "import numpy as np\n",
        "import pandas as pd\n",
        "from sklearn import preprocessing"
      ]
    },
    {
      "cell_type": "markdown",
      "metadata": {
        "id": "3nDYiCCrscGf"
      },
      "source": [
        "# Data preparation"
      ]
    },
    {
      "cell_type": "code",
      "execution_count": 21,
      "metadata": {
        "colab": {
          "base_uri": "https://localhost:8080/"
        },
        "id": "CuZ0n1znpxMb",
        "outputId": "5989dd7a-64a8-4481-b62e-bef5bf1dfccf"
      },
      "outputs": [
        {
          "name": "stdout",
          "output_type": "stream",
          "text": [
            "     pm10 so2  co  o3 no2  categori\n",
            "0      30  20  10  32   9         0\n",
            "1      27  22  12  29   8         0\n",
            "2      39  22  14  32  10         0\n",
            "3      34  22  14  38  10         0\n",
            "4      35  22  12  31   9         0\n",
            "...   ...  ..  ..  ..  ..       ...\n",
            "1822   29  31   9  28   2         0\n",
            "1823   24  27   7  18   3         0\n",
            "1826   22  33   5  35   3         0\n",
            "1828   16   7   3  21   2         0\n",
            "1829   18  13   6  24   3         0\n",
            "\n",
            "[1673 rows x 6 columns]\n"
          ]
        }
      ],
      "source": [
        "raw_data = pd.read_csv(\"dataset/indeks_pencemaran_udara_merged.csv\")\n",
        "\n",
        "# drop unnecessary feature\n",
        "dropped_feature = raw_data.drop(columns=[\"tanggal\",\"critical\",\"stasiun\",\"max\"])\n",
        "\n",
        "# drop missing value\n",
        "notnull_data = dropped_feature.dropna(axis=0)\n",
        "data = notnull_data.drop(notnull_data.index[(notnull_data=='---').any(axis=1)])\n",
        "\n",
        "# encode object types feature\n",
        "le = preprocessing.LabelEncoder()\n",
        "data['categori']=le.fit_transform(data['categori'])\n",
        "print(data)\n",
        "\n",
        "\n",
        "\n",
        "# y = raw_data[\"categori\"].copy()\n"
      ]
    },
    {
      "cell_type": "code",
      "execution_count": 22,
      "metadata": {
        "colab": {
          "base_uri": "https://localhost:8080/"
        },
        "id": "FoEphIeczrPu",
        "outputId": "06767e60-385b-4064-b829-70ed6f612e71"
      },
      "outputs": [
        {
          "name": "stdout",
          "output_type": "stream",
          "text": [
            "['BAIK']\n"
          ]
        }
      ],
      "source": [
        "from sklearn.pipeline import make_pipeline\n",
        "from sklearn.preprocessing import StandardScaler\n",
        "X = np.array(data.drop(columns=[\"categori\"]))\n",
        "y = np.array(data[\"categori\"].copy())\n",
        "from sklearn.svm import SVC\n",
        "clf = make_pipeline(StandardScaler(), SVC(gamma='auto'))\n",
        "clf.fit(X, y)\n",
        "\n",
        "print(le.inverse_transform(clf.predict([X[0]])))"
      ]
    },
    {
      "cell_type": "markdown",
      "metadata": {
        "id": "hVGyQDmiOMsa"
      },
      "source": [
        "# Export Model with joblib"
      ]
    },
    {
      "cell_type": "code",
      "execution_count": 23,
      "metadata": {
        "colab": {
          "base_uri": "https://localhost:8080/"
        },
        "id": "4yN2oz4-V91B",
        "outputId": "173a526c-e874-4496-c685-6a69823e6d72"
      },
      "outputs": [
        {
          "data": {
            "text/plain": [
              "['model/tutorprediklele.joblib']"
            ]
          },
          "execution_count": 23,
          "metadata": {},
          "output_type": "execute_result"
        }
      ],
      "source": [
        "from joblib import dump\n",
        "dump(clf, 'model/tutorprediklele.joblib')"
      ]
    },
    {
      "cell_type": "code",
      "execution_count": 24,
      "metadata": {
        "id": "ZCLORKn3XDAs"
      },
      "outputs": [],
      "source": [
        "# clfpred = load('model/tutorprediklele.joblib')"
      ]
    },
    {
      "cell_type": "code",
      "execution_count": 25,
      "metadata": {
        "colab": {
          "base_uri": "https://localhost:8080/"
        },
        "id": "WM_wT1SIWFze",
        "outputId": "6642ed1c-226d-4f84-aaec-fb2a6f8d253b"
      },
      "outputs": [],
      "source": [
        "# print(le.inverse_transform(clfpred.predict(X))[100])"
      ]
    }
  ],
  "metadata": {
    "colab": {
      "collapsed_sections": [],
      "provenance": []
    },
    "kernelspec": {
      "display_name": "Python 3.8.2 64-bit",
      "language": "python",
      "name": "python3"
    },
    "language_info": {
      "codemirror_mode": {
        "name": "ipython",
        "version": 3
      },
      "file_extension": ".py",
      "mimetype": "text/x-python",
      "name": "python",
      "nbconvert_exporter": "python",
      "pygments_lexer": "ipython3",
      "version": "3.8.2"
    },
    "vscode": {
      "interpreter": {
        "hash": "1204fb0aea0b19eb7892242c5f4826f2c9e2c28415665ba011c0b082be22151c"
      }
    }
  },
  "nbformat": 4,
  "nbformat_minor": 0
}
